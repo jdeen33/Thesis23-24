{
  "cells": [
    {
      "cell_type": "markdown",
      "metadata": {
        "id": "GuwSNYrNz1Pr"
      },
      "source": [
        "Imports"
      ]
    },
    {
      "cell_type": "code",
      "execution_count": null,
      "metadata": {
        "id": "zvJmxCi7R54W"
      },
      "outputs": [],
      "source": [
        "from bs4 import BeautifulSoup, Tag\n",
        "import requests\n",
        "import pprint\n",
        "!pip install stanza\n",
        "import re"
      ]
    },
    {
      "cell_type": "code",
      "execution_count": 2,
      "metadata": {
        "id": "UstXlp6d879y"
      },
      "outputs": [],
      "source": [
        "import pandas as pd\n",
        "import stanza"
      ]
    },
    {
      "cell_type": "code",
      "execution_count": 3,
      "metadata": {
        "id": "Mgz-rHhSALb1",
        "colab": {
          "base_uri": "https://localhost:8080/"
        },
        "outputId": "b27c5fa8-2a51-41a4-9e4b-817d2a8373a9"
      },
      "outputs": [
        {
          "output_type": "stream",
          "name": "stdout",
          "text": [
            "Mounted at /content/drive\n"
          ]
        }
      ],
      "source": [
        "from google.colab import drive\n",
        "drive.mount('/content/drive')"
      ]
    },
    {
      "cell_type": "code",
      "execution_count": null,
      "metadata": {
        "id": "ksTk0tQcBnFG"
      },
      "outputs": [],
      "source": [
        "import glob\n",
        "import pandas as pd\n",
        "en_files = sorted(glob.glob('/content/drive/MyDrive/Thesis2023/First1K_XML/*1st1K-grc1.xml'))  #creates a list of files based on filepath and regular expressions\n",
        "en_files   #useful for automating changes to a large number of files\n"
      ]
    },
    {
      "cell_type": "code",
      "source": [
        "import os"
      ],
      "metadata": {
        "id": "GWyYmpI6LIj-"
      },
      "execution_count": 4,
      "outputs": []
    },
    {
      "cell_type": "code",
      "source": [
        "for f in en_files: #renaming files\n",
        "  old_file_name = f\n",
        "  new_file_name = old_file_name.replace('1st1K-grc1.xml', '.1st1K-grc1.xml')\n",
        "  os.rename(old_file_name, new_file_name)\n",
        "\n"
      ],
      "metadata": {
        "id": "aycZN_rsLv2L"
      },
      "execution_count": 41,
      "outputs": []
    },
    {
      "cell_type": "code",
      "source": [
        "import glob\n",
        "import pandas as pd\n",
        "grc_files = sorted(glob.glob('/content/drive/MyDrive/Thesis2023/First1K_XML/*.xml'))  #creates a list of files based on filepath and regular expressions\n",
        "grc_files   #useful for automating changes to a large number of files\n",
        "#grc_colson="
      ],
      "metadata": {
        "id": "tHLNtb2oEeun"
      },
      "execution_count": null,
      "outputs": []
    },
    {
      "cell_type": "markdown",
      "metadata": {
        "id": "gx9aw8u4z5Jj"
      },
      "source": [
        "XML Edits"
      ]
    },
    {
      "cell_type": "code",
      "execution_count": 5,
      "metadata": {
        "id": "tg2dqrK_R_QW"
      },
      "outputs": [],
      "source": [
        "#loading the file with beautiful soup\n",
        "def open_file(x):\n",
        "  philo = open( x ,encoding='utf-8', errors='ignore')\n",
        "  philo_soup = BeautifulSoup(philo,'lxml')\n",
        "  return philo_soup\n",
        "\n"
      ]
    },
    {
      "cell_type": "code",
      "source": [
        "#Four of Philo's works (tlg0018.tlg002,tlg0018.tlg019, tlg0018.tlg022, tlg0018.tlg024) have books and sections\n",
        "#So the function for changing those XML:Base tags is slightly different\n",
        "def making_books_and_secs(philo_soup):\n",
        "  for b in philo_soup.find_all('div', subtype= 'book'):\n",
        "    b['xml:base']= b['xml:base']+':'+(str(b['n'])) #grabs every heading for each book\n",
        "    for sec in b.find_all('div', subtype= 'section'): #accesses a list of section headings that occur under each book\n",
        "      sec['xml:base']= b['xml:base']+ '.'+(str(sec['n']))  #Beautiful soup stores XML tags as dictionaries- so we can access and change them the way we would a python dictionary\n",
        "  return philo_soup"
      ],
      "metadata": {
        "id": "YZgQcoQZKkkh"
      },
      "execution_count": 9,
      "outputs": []
    },
    {
      "cell_type": "code",
      "source": [
        "#This function was used for all the works that contain only sections\n",
        "def make_sections(philo_soup):\n",
        "  for sec in philo_soup.find_all('div', subtype= 'section'):\n",
        "    sec['xml:base']= sec['xml:base']+':'+(str(sec['n'])) #accesses existing XML base tag and adds ':' and the n attribute\n",
        "  return philo_soup                                       #n attribute is made into a string here because beautiful soup won't accept integers\n"
      ],
      "metadata": {
        "id": "mXzxFWAEKGVJ"
      },
      "execution_count": 7,
      "outputs": []
    },
    {
      "cell_type": "code",
      "source": [
        "def add_revision_tags(opened):  #editing the TEI header of each file to document my revisions\n",
        "  original_tag= opened.revisiondesc\n",
        "  new_tag = opened.new_tag(\"change\", when= \"2024-01-01\",who=\"Julia Deen\")\n",
        "  original_tag.append(new_tag)\n",
        "  original_tag\n",
        "  new_tag.string = \"Updated the xml:base tags to match the most recent CTS URN guidelines specified by the OpenGreekandLatin Github page\"\n",
        "  original_tag"
      ],
      "metadata": {
        "id": "wkRvH8p6a7oi"
      },
      "execution_count": 6,
      "outputs": []
    },
    {
      "cell_type": "code",
      "execution_count": 7,
      "metadata": {
        "id": "3aAhxIzDHi2k"
      },
      "outputs": [],
      "source": [
        "def write_file(philo_soup,x):\n",
        "  with open(f\"{x}\", 'w') as philo_file:\n",
        "    philo_file.write(str(philo_soup)) #writes the XML file to save the changes\n"
      ]
    },
    {
      "cell_type": "code",
      "execution_count": null,
      "metadata": {
        "id": "I17YCQjH6T2B"
      },
      "outputs": [],
      "source": [
        "for x in grc_files: #allows us to automate the process by looping through all files in the directory\n",
        "  opened= open_file(x)\n",
        "  sected=  making_books_and_secs(opened)\n",
        "  revised= add_revision_tags(sected)\n",
        "  written= write_file(revised,x)\n"
      ]
    },
    {
      "cell_type": "code",
      "execution_count": null,
      "metadata": {
        "id": "gD3xRIS8jJB5"
      },
      "outputs": [],
      "source": [
        "corr_files = sorted(glob.glob('/content/*.xm'l)) #using regular expressions to search file directory\n",
        "corr_files  #for our corrected files"
      ]
    },
    {
      "cell_type": "code",
      "execution_count": 21,
      "metadata": {
        "id": "6lSLSTMNu1VZ"
      },
      "outputs": [],
      "source": [
        "import zipfile"
      ]
    },
    {
      "cell_type": "code",
      "execution_count": 22,
      "metadata": {
        "id": "mP9fdWrzvaz8"
      },
      "outputs": [],
      "source": [
        "with zipfile.ZipFile('1st1K_XML.zip', 'w') as f: #creating a zipfile of our now edited files\n",
        "    for y in corr_files:\n",
        "        f.write(y)"
      ]
    }
  ],
  "metadata": {
    "colab": {
      "provenance": []
    },
    "kernelspec": {
      "display_name": "Python 3",
      "name": "python3"
    },
    "language_info": {
      "name": "python"
    }
  },
  "nbformat": 4,
  "nbformat_minor": 0
}