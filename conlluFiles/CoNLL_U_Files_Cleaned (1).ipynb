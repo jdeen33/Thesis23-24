{
  "cells": [
    {
      "cell_type": "code",
      "execution_count": null,
      "metadata": {
        "id": "yz3Cngdab8A9"
      },
      "outputs": [],
      "source": [
        "from bs4 import BeautifulSoup, Tag\n",
        "import requests\n",
        "import pprint\n",
        "!pip install stanza\n",
        "import re\n",
        "import os"
      ]
    },
    {
      "cell_type": "code",
      "execution_count": null,
      "metadata": {
        "id": "M8yZjFBwcO9T"
      },
      "outputs": [],
      "source": [
        "import pandas as pd\n",
        "import stanza\n",
        "nlp = stanza.Pipeline(lang='en', processors='tokenize, pos,lemma, depparse')"
      ]
    },
    {
      "cell_type": "code",
      "execution_count": null,
      "metadata": {
        "id": "LmjVkbm8r2af"
      },
      "outputs": [],
      "source": [
        "from stanza.utils.conll import CoNLL\n",
        "import shutil"
      ]
    },
    {
      "cell_type": "code",
      "execution_count": null,
      "metadata": {
        "id": "Td0DfJGXZYNF"
      },
      "outputs": [],
      "source": [
        "import glob\n",
        "en_files = sorted(glob.glob('/content/*opp-grc1.xml_edited.xml'))\n",
        "en_files"
      ]
    },
    {
      "cell_type": "code",
      "source": [],
      "metadata": {
        "id": "vkgjYmMweO-P"
      },
      "execution_count": null,
      "outputs": []
    },
    {
      "cell_type": "code",
      "execution_count": null,
      "metadata": {
        "id": "Z-uIg-po3lVT"
      },
      "outputs": [],
      "source": [
        "!mkdir eng_conll"
      ]
    },
    {
      "cell_type": "code",
      "execution_count": null,
      "metadata": {
        "id": "0xtUP36FczZK"
      },
      "outputs": [],
      "source": [
        "def open_file(x):\n",
        "  philo = open(x, encoding='utf-8', errors='ignore')\n",
        "  philo_soup = BeautifulSoup(philo,'lxml')\n",
        "  return philo_soup"
      ]
    },
    {
      "cell_type": "code",
      "execution_count": null,
      "metadata": {
        "id": "FMpspIUFXV_7"
      },
      "outputs": [],
      "source": [
        "def dir_name(x):\n",
        "  philo = open(x, encoding='utf-8', errors='ignore')\n",
        "  nom= philo.name[14:]\n",
        "  return nom\n"
      ]
    },
    {
      "cell_type": "code",
      "source": [
        "from google.colab import drive\n",
        "drive.mount('/content/drive')"
      ],
      "metadata": {
        "colab": {
          "base_uri": "https://localhost:8080/"
        },
        "id": "KzSSUmvuq5qC",
        "outputId": "35ba2879-f39f-44fc-95dc-3b5803717798"
      },
      "execution_count": null,
      "outputs": [
        {
          "output_type": "stream",
          "name": "stdout",
          "text": [
            "Mounted at /content/drive\n"
          ]
        }
      ]
    },
    {
      "cell_type": "code",
      "execution_count": null,
      "metadata": {
        "id": "sQ9I3LIP2Lls"
      },
      "outputs": [],
      "source": [
        "def make_directory(x):\n",
        "  directory=  x\n",
        "  parent_dir= '/content/drive/MyDrive/Thesis2023/coNLLUFiles/Greek'\n",
        "  path = os.path.join(parent_dir, directory)\n",
        "  path2= os.mkdir(path)\n",
        "  return path"
      ]
    },
    {
      "cell_type": "code",
      "execution_count": null,
      "metadata": {
        "id": "oO4-uDDic7nw"
      },
      "outputs": [],
      "source": [
        "#making sentences dictionary\n",
        "def make_dict(philo_soup):\n",
        "  sents_dict= {}\n",
        "  sentences= philo_soup.find_all('s')\n",
        "  for s in sentences:\n",
        "    sents_dict[s['id']]= s.get_text()\n",
        "  return sents_dict\n"
      ]
    },
    {
      "cell_type": "code",
      "execution_count": null,
      "metadata": {
        "id": "8wNZ8jZTAuFw"
      },
      "outputs": [],
      "source": [
        "def make_dataframe(sents_dict):\n",
        "  sents_pd = pd.DataFrame.from_dict(sents_dict,orient= 'index').rename(columns={0:'StringText'},)\n",
        "  sents_pd.reset_index(inplace=True)\n",
        "  sents = sents_pd.rename(columns = {'index':'ID'})\n",
        "  return sents"
      ]
    },
    {
      "cell_type": "code",
      "execution_count": null,
      "metadata": {
        "id": "D5EYrr862uD4"
      },
      "outputs": [],
      "source": [
        "def creatsconllu(sents,y):\n",
        "  for i in range(len(sents)):\n",
        "    sent= sents.iloc[i]['StringText']\n",
        "    idix= sents.iloc[i]['ID']\n",
        "    sdoc= nlp(sent)\n",
        "    CoNLL.write_doc2conll(sdoc,f'{y}/{idix}.conllu')   #parent directory path will repalce content//\n"
      ]
    },
    {
      "cell_type": "code",
      "execution_count": null,
      "metadata": {
        "id": "wIyZgyQq3w9R"
      },
      "outputs": [],
      "source": [
        "for x in en_files:\n",
        "  file1= open_file(x)\n",
        "  path1= dir_name(x)\n",
        "  path2= make_directory(path1)\n",
        "  dicted= make_dict(file1)\n",
        "  frames= make_dataframe(dicted)\n",
        "  connls= creatsconllu(frames,path2)"
      ]
    }
  ],
  "metadata": {
    "colab": {
      "provenance": []
    },
    "kernelspec": {
      "display_name": "Python 3",
      "name": "python3"
    },
    "language_info": {
      "name": "python"
    }
  },
  "nbformat": 4,
  "nbformat_minor": 0
}