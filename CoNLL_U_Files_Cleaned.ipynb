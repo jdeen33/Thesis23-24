{
  "nbformat": 4,
  "nbformat_minor": 0,
  "metadata": {
    "colab": {
      "provenance": []
    },
    "kernelspec": {
      "name": "python3",
      "display_name": "Python 3"
    },
    "language_info": {
      "name": "python"
    }
  },
  "cells": [
    {
      "cell_type": "code",
      "execution_count": null,
      "metadata": {
        "id": "yz3Cngdab8A9"
      },
      "outputs": [],
      "source": [
        "from bs4 import BeautifulSoup, Tag\n",
        "import requests\n",
        "import pprint\n",
        "!pip install stanza\n",
        "import re\n",
        "import os"
      ]
    },
    {
      "cell_type": "code",
      "source": [
        "import pandas as pd\n",
        "import stanza\n",
        "nlp = stanza.Pipeline(lang='en', processors='tokenize, pos,mwt, lemma, depparse')"
      ],
      "metadata": {
        "id": "M8yZjFBwcO9T"
      },
      "execution_count": null,
      "outputs": []
    },
    {
      "cell_type": "code",
      "source": [
        "from stanza.utils.conll import CoNLL\n",
        "import shutil"
      ],
      "metadata": {
        "id": "LmjVkbm8r2af"
      },
      "execution_count": null,
      "outputs": []
    },
    {
      "cell_type": "code",
      "source": [
        "!mkdir eng_conll"
      ],
      "metadata": {
        "id": "Z-uIg-po3lVT"
      },
      "execution_count": null,
      "outputs": []
    },
    {
      "cell_type": "code",
      "source": [
        "def open_file(x):\n",
        "  philo = open(x, encoding='utf-8', errors='ignore')\n",
        "  philo_soup = BeautifulSoup(philo,'lxml')\n",
        "  return philo_soup"
      ],
      "metadata": {
        "id": "0xtUP36FczZK"
      },
      "execution_count": null,
      "outputs": []
    },
    {
      "cell_type": "code",
      "source": [
        "def dir_name(x):\n",
        "  philo = open(x, encoding='utf-8', errors='ignore')\n",
        "  nom= philo.name[14:]\n",
        "  return nom\n"
      ],
      "metadata": {
        "id": "FMpspIUFXV_7"
      },
      "execution_count": null,
      "outputs": []
    },
    {
      "cell_type": "code",
      "source": [
        "def make_directory(x):\n",
        "  directory= x\n",
        "  parent_dir= '/content/eng_conll'\n",
        "  path = os.path.join(parent_dir, directory)\n",
        "  path2= os.mkdir(path)\n",
        "  return path2"
      ],
      "metadata": {
        "id": "sQ9I3LIP2Lls"
      },
      "execution_count": null,
      "outputs": []
    },
    {
      "cell_type": "code",
      "source": [
        "#making sentences dictionary\n",
        "def make_dict(philo_soup):\n",
        "  sents_dict= {}\n",
        "  sentences= philo_soup.find_all('s')\n",
        "  for s in sentences:\n",
        "    sents_dict[s['id']]= s.get_text()\n",
        "  return sents_dict\n"
      ],
      "metadata": {
        "id": "oO4-uDDic7nw"
      },
      "execution_count": null,
      "outputs": []
    },
    {
      "cell_type": "code",
      "source": [
        "def make_dataframe(sents_dict):\n",
        "  sents_pd = pd.DataFrame.from_dict(sents_dict,orient= 'index').rename(columns={0:'StringText'},)\n",
        "  sents_pd.reset_index(inplace=True)\n",
        "  sents = sents_pd.rename(columns = {'index':'ID'})\n",
        "  return sents"
      ],
      "metadata": {
        "id": "8wNZ8jZTAuFw"
      },
      "execution_count": null,
      "outputs": []
    },
    {
      "cell_type": "code",
      "source": [
        "def creatsconllu(sents,y):\n",
        "  for i in range(len(sents)):\n",
        "    sent= sents.iloc[i]['StringText']\n",
        "    idix= sents.iloc[i]['ID']\n",
        "    sdoc= nlp(sent)\n",
        "    CoNLL.write_doc2conll(sdoc,f'{y}{idix}.conllu')   #parent directory path will repalce content//\n"
      ],
      "metadata": {
        "id": "D5EYrr862uD4"
      },
      "execution_count": null,
      "outputs": []
    },
    {
      "cell_type": "code",
      "source": [
        "file1= open_file('/content/corr.tlg0018.tlg019.yonge_eng1.xml_f')\n",
        "path1= dir_name('/content/corr.tlg0018.tlg019.yonge_eng1.xml_f')\n",
        "path2= make_directory(path1)\n",
        "dicted= make_dict(file1)\n",
        "frames= make_dataframe(dicted)\n",
        "connls= creatsconllu(frames,path2)"
      ],
      "metadata": {
        "id": "wIyZgyQq3w9R"
      },
      "execution_count": null,
      "outputs": []
    }
  ]
}