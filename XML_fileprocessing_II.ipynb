{
  "cells": [
    {
      "cell_type": "markdown",
      "source": [
        "Imports"
      ],
      "metadata": {
        "id": "GuwSNYrNz1Pr"
      }
    },
    {
      "cell_type": "code",
      "execution_count": null,
      "metadata": {
        "id": "zvJmxCi7R54W"
      },
      "outputs": [],
      "source": [
        "from bs4 import BeautifulSoup, Tag\n",
        "import requests\n",
        "import pprint\n",
        "!pip install stanza\n",
        "import re"
      ]
    },
    {
      "cell_type": "code",
      "execution_count": 2,
      "metadata": {
        "id": "UstXlp6d879y"
      },
      "outputs": [],
      "source": [
        "import pandas as pd\n",
        "import stanza"
      ]
    },
    {
      "cell_type": "code",
      "source": [
        "from google.colab import drive\n",
        "drive.mount('/content/drive')"
      ],
      "metadata": {
        "colab": {
          "base_uri": "https://localhost:8080/"
        },
        "id": "Mgz-rHhSALb1",
        "outputId": "def2b0a3-9780-4c19-dc5c-6dabcd41196e"
      },
      "execution_count": 3,
      "outputs": [
        {
          "output_type": "stream",
          "name": "stdout",
          "text": [
            "Mounted at /content/drive\n"
          ]
        }
      ]
    },
    {
      "cell_type": "code",
      "source": [
        "!unzip /content/drive/MyDrive/Thesis2023/philoalex-main.zip"
      ],
      "metadata": {
        "id": "cAEyToy5AeJd"
      },
      "execution_count": null,
      "outputs": []
    },
    {
      "cell_type": "code",
      "source": [
        "import glob\n",
        "import pandas as pd\n",
        "grc_files = sorted(glob.glob('/content/philoalex-main/cohn-corr/*-grc1.xml'))\n",
        "grc_files\n"
      ],
      "metadata": {
        "id": "ksTk0tQcBnFG"
      },
      "execution_count": null,
      "outputs": []
    },
    {
      "cell_type": "code",
      "execution_count": 6,
      "metadata": {
        "id": "j-JLV-DvIms_",
        "colab": {
          "base_uri": "https://localhost:8080/",
          "height": 320,
          "referenced_widgets": [
            "4970178d120748bf8cddb429654e822c",
            "fa6df5f837ca448cb9aad738c54f2a14",
            "ddc7e76739a045a082c8b5f9a64db25e",
            "0dcaec605a254810979b3e34ad51fdff",
            "17ec0d8e6d5b47a9a905ce755fa759e0",
            "297c0cbb686c4839845d357422e6ffad",
            "81f57997ec2040909fe1924f2e960c82",
            "fa64c90a37964db1956e3ad9558ae90d",
            "ed2b0cef7ae743f889941b0167444a59",
            "a419fd66506f4d3d971b6314e31a862d",
            "3bc9bd8897124bf0bde4c067f5a7d713",
            "eb78eba160884836bebfa96116f7f96d",
            "cf32b884a7944810956eab0f522d59b2",
            "45401471e5d1417881816be9c4242698",
            "a656a2b979ef417586d5cc4ac9269b44",
            "11c19a4ae8f34c42abb0a62cd0401fad",
            "d21212300f9548d3a902cb51959ff2f8",
            "8406aa49682f41a3bb20b40b20eba1e3",
            "5b42b8cd3d4c49e88afba9737a0848cd",
            "450977e5535f4d25ae677fe59124de93",
            "eea5b5932f1d4957af823f5fbf1d0dd2",
            "17034907d8aa43658e08658af882a85f"
          ]
        },
        "outputId": "44b7ddca-59c7-4a33-805f-d9ee33aef737"
      },
      "outputs": [
        {
          "output_type": "stream",
          "name": "stderr",
          "text": [
            "INFO:stanza:Checking for updates to resources.json in case models have been updated.  Note: this behavior can be turned off with download_method=None or download_method=DownloadMethod.REUSE_RESOURCES\n"
          ]
        },
        {
          "output_type": "display_data",
          "data": {
            "text/plain": [
              "Downloading https://raw.githubusercontent.com/stanfordnlp/stanza-resources/main/resources_1.5.0.json:   0%|   …"
            ],
            "application/vnd.jupyter.widget-view+json": {
              "version_major": 2,
              "version_minor": 0,
              "model_id": "4970178d120748bf8cddb429654e822c"
            }
          },
          "metadata": {}
        },
        {
          "output_type": "display_data",
          "data": {
            "text/plain": [
              "Downloading https://huggingface.co/stanfordnlp/stanza-grc/resolve/v1.5.0/models/tokenize/proiel.pt:   0%|     …"
            ],
            "application/vnd.jupyter.widget-view+json": {
              "version_major": 2,
              "version_minor": 0,
              "model_id": "eb78eba160884836bebfa96116f7f96d"
            }
          },
          "metadata": {}
        },
        {
          "output_type": "stream",
          "name": "stderr",
          "text": [
            "INFO:stanza:Loading these models for language: grc (Ancient_Greek):\n",
            "=======================\n",
            "| Processor | Package |\n",
            "-----------------------\n",
            "| tokenize  | proiel  |\n",
            "=======================\n",
            "\n",
            "INFO:stanza:Using device: cpu\n",
            "INFO:stanza:Loading: tokenize\n",
            "INFO:stanza:Done loading processors!\n"
          ]
        }
      ],
      "source": [
        "#use whichever language you need\n",
        "#nlp_grc = stanza.Pipeline(lang='grc', processors='tokenize')\n",
        "nlp = stanza.Pipeline(lang='grc', processors='tokenize')"
      ]
    },
    {
      "cell_type": "markdown",
      "source": [
        "XML Edits"
      ],
      "metadata": {
        "id": "gx9aw8u4z5Jj"
      }
    },
    {
      "cell_type": "code",
      "execution_count": 7,
      "metadata": {
        "id": "tg2dqrK_R_QW"
      },
      "outputs": [],
      "source": [
        "#loading the file with beautiful soup\n",
        "def open_file(x):\n",
        "  philo = open( x ,encoding='utf-8', errors='ignore')\n",
        "  philo_soup = BeautifulSoup(philo,'lxml')\n",
        "  return philo_soup\n",
        "\n"
      ]
    },
    {
      "cell_type": "code",
      "execution_count": 8,
      "metadata": {
        "id": "kwWwr6vV-5bB"
      },
      "outputs": [],
      "source": [
        "#removing extra tags that we don't need for text tokenizing\n",
        "def removing_tags(philo_soup):\n",
        "  notes= philo_soup.find_all(\"note\")\n",
        "  for note in notes:\n",
        "    note.decompose()\n",
        "    #removing marked mistakes from Prof Crane's corrected file (<sic> tag)\n",
        "  sic= philo_soup.find_all('sic')\n",
        "  for s in sic:\n",
        "    s.decompose()\n",
        "    #removing page break tags\n",
        "  pages = philo_soup.find_all('pb')\n",
        "  for p in pages:\n",
        "    p.decompose()\n",
        "    #removing line break tags\n",
        "  breaks = philo_soup.find_all('lb')\n",
        "  for b in breaks:\n",
        "    b.decompose()\n",
        "  return philo_soup\n"
      ]
    },
    {
      "cell_type": "code",
      "source": [
        "#numbers sections based on index\n",
        "#works only if sections numbers and index are aligned\n",
        "#otherwise use s[id]= section, p['n]\n",
        "def making_sections(philo_soup):\n",
        "  sections= philo_soup.find_all('p')\n",
        "  for index, s in enumerate(sections):\n",
        "    s['id']= f'Section{index}'\n",
        "  return philo_soup"
      ],
      "metadata": {
        "id": "MyRROYRGc7LO"
      },
      "execution_count": 9,
      "outputs": []
    },
    {
      "cell_type": "code",
      "source": [
        "def making_sent_tags(philo_soup):\n",
        "  sections= philo_soup.find_all('p')\n",
        "  for sec_index, sec in enumerate(sections):\n",
        "    doc= nlp(sec.get_text())   #applies tokenizer\n",
        "    sents= [sentence.text for sentence in doc.sentences]  #acceses tuple that stanza makes of sentences\n",
        "    sec.clear()  #not sure why this needs to be in here to work but...it does\n",
        "    for sent_index, sent in enumerate(sents): #enumersates the sentences for each section\n",
        "      sent_tag = philo_soup.new_tag('s',id= f'section{sec_index}sent{sent_index+1}')\n",
        "      sent_tag.string = sent #identifies contents of the tag\n",
        "      sec.append(sent_tag) #appends contents to the correct tag\n",
        "  return philo_soup\n"
      ],
      "metadata": {
        "id": "iIQrdBudXqs7"
      },
      "execution_count": 13,
      "outputs": []
    },
    {
      "cell_type": "code",
      "execution_count": 11,
      "metadata": {
        "id": "3aAhxIzDHi2k"
      },
      "outputs": [],
      "source": [
        "def write_file(philo_soup,x):\n",
        "  with open(f\"{x}_f\", 'w') as philo_file:\n",
        "    philo_file.write(str(philo_soup))\n"
      ]
    },
    {
      "cell_type": "code",
      "source": [
        "for x in grc_files:\n",
        "  opened= open_file(x)\n",
        "  no_tags= removing_tags(opened)\n",
        "  made_secs= making_sections(no_tags)\n",
        "  made_sent_tags= making_sent_tags(made_secs)\n",
        "  written= write_file(made_sent_tags,x)\n"
      ],
      "metadata": {
        "id": "I17YCQjH6T2B",
        "colab": {
          "base_uri": "https://localhost:8080/"
        },
        "outputId": "9b35fc53-57fc-4db5-f0cd-e3746f2f0369"
      },
      "execution_count": 12,
      "outputs": [
        {
          "output_type": "stream",
          "name": "stderr",
          "text": [
            "/usr/local/lib/python3.10/dist-packages/bs4/builder/__init__.py:545: XMLParsedAsHTMLWarning: It looks like you're parsing an XML document using an HTML parser. If this really is an HTML document (maybe it's XHTML?), you can ignore or filter this warning. If it's XML, you should know that using an XML parser will be more reliable. To parse this document as XML, make sure you have the lxml package installed, and pass the keyword argument `features=\"xml\"` into the BeautifulSoup constructor.\n",
            "  warnings.warn(\n"
          ]
        }
      ]
    },
    {
      "cell_type": "code",
      "source": [
        "corr_files = sorted(glob.glob('/content/philoalex-main/cohn-corr/*-grc1.xml_f'))\n",
        "corr_files"
      ],
      "metadata": {
        "id": "gD3xRIS8jJB5",
        "colab": {
          "base_uri": "https://localhost:8080/"
        },
        "outputId": "6639a29a-d2a3-45e7-fc33-02aff1223302"
      },
      "execution_count": 14,
      "outputs": [
        {
          "output_type": "execute_result",
          "data": {
            "text/plain": [
              "['/content/philoalex-main/cohn-corr/corr-tlg0018.tlg001.opp-grc1.xml_f',\n",
              " '/content/philoalex-main/cohn-corr/corr-tlg0018.tlg002.opp-grc1.xml_f',\n",
              " '/content/philoalex-main/cohn-corr/corr-tlg0018.tlg003.opp-grc1.xml_f',\n",
              " '/content/philoalex-main/cohn-corr/corr-tlg0018.tlg004.opp-grc1.xml_f',\n",
              " '/content/philoalex-main/cohn-corr/corr-tlg0018.tlg005.opp-grc1.xml_f',\n",
              " '/content/philoalex-main/cohn-corr/corr-tlg0018.tlg006.opp-grc1.xml_f',\n",
              " '/content/philoalex-main/cohn-corr/corr-tlg0018.tlg007.opp-grc1.xml_f',\n",
              " '/content/philoalex-main/cohn-corr/corr-tlg0018.tlg008.opp-grc1.xml_f',\n",
              " '/content/philoalex-main/cohn-corr/corr-tlg0018.tlg009.opp-grc1.xml_f',\n",
              " '/content/philoalex-main/cohn-corr/corr-tlg0018.tlg010.opp-grc1.xml_f',\n",
              " '/content/philoalex-main/cohn-corr/corr-tlg0018.tlg011.opp-grc1.xml_f',\n",
              " '/content/philoalex-main/cohn-corr/corr-tlg0018.tlg012.opp-grc1.xml_f',\n",
              " '/content/philoalex-main/cohn-corr/corr-tlg0018.tlg013.opp-grc1.xml_f',\n",
              " '/content/philoalex-main/cohn-corr/corr-tlg0018.tlg014.opp-grc1.xml_f',\n",
              " '/content/philoalex-main/cohn-corr/corr-tlg0018.tlg015.opp-grc1.xml_f',\n",
              " '/content/philoalex-main/cohn-corr/corr-tlg0018.tlg016.opp-grc1.xml_f',\n",
              " '/content/philoalex-main/cohn-corr/corr-tlg0018.tlg017.opp-grc1.xml_f',\n",
              " '/content/philoalex-main/cohn-corr/corr-tlg0018.tlg018.opp-grc1.xml_f',\n",
              " '/content/philoalex-main/cohn-corr/corr-tlg0018.tlg019.opp-grc1.xml_f',\n",
              " '/content/philoalex-main/cohn-corr/corr-tlg0018.tlg020.opp-grc1.xml_f',\n",
              " '/content/philoalex-main/cohn-corr/corr-tlg0018.tlg021.opp-grc1.xml_f',\n",
              " '/content/philoalex-main/cohn-corr/corr-tlg0018.tlg022.opp-grc1.xml_f',\n",
              " '/content/philoalex-main/cohn-corr/corr-tlg0018.tlg023.opp-grc1.xml_f',\n",
              " '/content/philoalex-main/cohn-corr/corr-tlg0018.tlg024.opp-grc1.xml_f',\n",
              " '/content/philoalex-main/cohn-corr/corr-tlg0018.tlg025.opp-grc1.xml_f',\n",
              " '/content/philoalex-main/cohn-corr/corr-tlg0018.tlg026.opp-grc1.xml_f',\n",
              " '/content/philoalex-main/cohn-corr/corr-tlg0018.tlg027.opp-grc1.xml_f',\n",
              " '/content/philoalex-main/cohn-corr/corr-tlg0018.tlg028.opp-grc1.xml_f',\n",
              " '/content/philoalex-main/cohn-corr/corr-tlg0018.tlg029.opp-grc1.xml_f',\n",
              " '/content/philoalex-main/cohn-corr/corr-tlg0018.tlg030.opp-grc1.xml_f',\n",
              " '/content/philoalex-main/cohn-corr/corr-tlg0018.tlg031.opp-grc1.xml_f']"
            ]
          },
          "metadata": {},
          "execution_count": 14
        }
      ]
    },
    {
      "cell_type": "code",
      "source": [
        "import zipfile"
      ],
      "metadata": {
        "id": "6lSLSTMNu1VZ"
      },
      "execution_count": 15,
      "outputs": []
    },
    {
      "cell_type": "code",
      "source": [
        "\n",
        "with zipfile.ZipFile('cohn_corr_grc.zip', 'w') as f:\n",
        "    for y in corr_files:\n",
        "        f.write(y)"
      ],
      "metadata": {
        "id": "mP9fdWrzvaz8"
      },
      "execution_count": 16,
      "outputs": []
    },
    {
      "cell_type": "code",
      "source": [
        "#problem files\n",
        "#tlg 004"
      ],
      "metadata": {
        "id": "zJH8rz3a8twD"
      },
      "execution_count": null,
      "outputs": []
    }
  ],
  "metadata": {
    "colab": {
      "provenance": []
    },
    "kernelspec": {
      "display_name": "Python 3",
      "name": "python3"
    },
    "language_info": {
      "name": "python"
    },
    "widgets": {
      "application/vnd.jupyter.widget-state+json": {
        "4970178d120748bf8cddb429654e822c": {
          "model_module": "@jupyter-widgets/controls",
          "model_name": "HBoxModel",
          "model_module_version": "1.5.0",
          "state": {
            "_dom_classes": [],
            "_model_module": "@jupyter-widgets/controls",
            "_model_module_version": "1.5.0",
            "_model_name": "HBoxModel",
            "_view_count": null,
            "_view_module": "@jupyter-widgets/controls",
            "_view_module_version": "1.5.0",
            "_view_name": "HBoxView",
            "box_style": "",
            "children": [
              "IPY_MODEL_fa6df5f837ca448cb9aad738c54f2a14",
              "IPY_MODEL_ddc7e76739a045a082c8b5f9a64db25e",
              "IPY_MODEL_0dcaec605a254810979b3e34ad51fdff"
            ],
            "layout": "IPY_MODEL_17ec0d8e6d5b47a9a905ce755fa759e0"
          }
        },
        "fa6df5f837ca448cb9aad738c54f2a14": {
          "model_module": "@jupyter-widgets/controls",
          "model_name": "HTMLModel",
          "model_module_version": "1.5.0",
          "state": {
            "_dom_classes": [],
            "_model_module": "@jupyter-widgets/controls",
            "_model_module_version": "1.5.0",
            "_model_name": "HTMLModel",
            "_view_count": null,
            "_view_module": "@jupyter-widgets/controls",
            "_view_module_version": "1.5.0",
            "_view_name": "HTMLView",
            "description": "",
            "description_tooltip": null,
            "layout": "IPY_MODEL_297c0cbb686c4839845d357422e6ffad",
            "placeholder": "​",
            "style": "IPY_MODEL_81f57997ec2040909fe1924f2e960c82",
            "value": "Downloading https://raw.githubusercontent.com/stanfordnlp/stanza-resources/main/resources_1.5.0.json: "
          }
        },
        "ddc7e76739a045a082c8b5f9a64db25e": {
          "model_module": "@jupyter-widgets/controls",
          "model_name": "FloatProgressModel",
          "model_module_version": "1.5.0",
          "state": {
            "_dom_classes": [],
            "_model_module": "@jupyter-widgets/controls",
            "_model_module_version": "1.5.0",
            "_model_name": "FloatProgressModel",
            "_view_count": null,
            "_view_module": "@jupyter-widgets/controls",
            "_view_module_version": "1.5.0",
            "_view_name": "ProgressView",
            "bar_style": "success",
            "description": "",
            "description_tooltip": null,
            "layout": "IPY_MODEL_fa64c90a37964db1956e3ad9558ae90d",
            "max": 30101,
            "min": 0,
            "orientation": "horizontal",
            "style": "IPY_MODEL_ed2b0cef7ae743f889941b0167444a59",
            "value": 30101
          }
        },
        "0dcaec605a254810979b3e34ad51fdff": {
          "model_module": "@jupyter-widgets/controls",
          "model_name": "HTMLModel",
          "model_module_version": "1.5.0",
          "state": {
            "_dom_classes": [],
            "_model_module": "@jupyter-widgets/controls",
            "_model_module_version": "1.5.0",
            "_model_name": "HTMLModel",
            "_view_count": null,
            "_view_module": "@jupyter-widgets/controls",
            "_view_module_version": "1.5.0",
            "_view_name": "HTMLView",
            "description": "",
            "description_tooltip": null,
            "layout": "IPY_MODEL_a419fd66506f4d3d971b6314e31a862d",
            "placeholder": "​",
            "style": "IPY_MODEL_3bc9bd8897124bf0bde4c067f5a7d713",
            "value": " 216k/? [00:00&lt;00:00, 8.63MB/s]"
          }
        },
        "17ec0d8e6d5b47a9a905ce755fa759e0": {
          "model_module": "@jupyter-widgets/base",
          "model_name": "LayoutModel",
          "model_module_version": "1.2.0",
          "state": {
            "_model_module": "@jupyter-widgets/base",
            "_model_module_version": "1.2.0",
            "_model_name": "LayoutModel",
            "_view_count": null,
            "_view_module": "@jupyter-widgets/base",
            "_view_module_version": "1.2.0",
            "_view_name": "LayoutView",
            "align_content": null,
            "align_items": null,
            "align_self": null,
            "border": null,
            "bottom": null,
            "display": null,
            "flex": null,
            "flex_flow": null,
            "grid_area": null,
            "grid_auto_columns": null,
            "grid_auto_flow": null,
            "grid_auto_rows": null,
            "grid_column": null,
            "grid_gap": null,
            "grid_row": null,
            "grid_template_areas": null,
            "grid_template_columns": null,
            "grid_template_rows": null,
            "height": null,
            "justify_content": null,
            "justify_items": null,
            "left": null,
            "margin": null,
            "max_height": null,
            "max_width": null,
            "min_height": null,
            "min_width": null,
            "object_fit": null,
            "object_position": null,
            "order": null,
            "overflow": null,
            "overflow_x": null,
            "overflow_y": null,
            "padding": null,
            "right": null,
            "top": null,
            "visibility": null,
            "width": null
          }
        },
        "297c0cbb686c4839845d357422e6ffad": {
          "model_module": "@jupyter-widgets/base",
          "model_name": "LayoutModel",
          "model_module_version": "1.2.0",
          "state": {
            "_model_module": "@jupyter-widgets/base",
            "_model_module_version": "1.2.0",
            "_model_name": "LayoutModel",
            "_view_count": null,
            "_view_module": "@jupyter-widgets/base",
            "_view_module_version": "1.2.0",
            "_view_name": "LayoutView",
            "align_content": null,
            "align_items": null,
            "align_self": null,
            "border": null,
            "bottom": null,
            "display": null,
            "flex": null,
            "flex_flow": null,
            "grid_area": null,
            "grid_auto_columns": null,
            "grid_auto_flow": null,
            "grid_auto_rows": null,
            "grid_column": null,
            "grid_gap": null,
            "grid_row": null,
            "grid_template_areas": null,
            "grid_template_columns": null,
            "grid_template_rows": null,
            "height": null,
            "justify_content": null,
            "justify_items": null,
            "left": null,
            "margin": null,
            "max_height": null,
            "max_width": null,
            "min_height": null,
            "min_width": null,
            "object_fit": null,
            "object_position": null,
            "order": null,
            "overflow": null,
            "overflow_x": null,
            "overflow_y": null,
            "padding": null,
            "right": null,
            "top": null,
            "visibility": null,
            "width": null
          }
        },
        "81f57997ec2040909fe1924f2e960c82": {
          "model_module": "@jupyter-widgets/controls",
          "model_name": "DescriptionStyleModel",
          "model_module_version": "1.5.0",
          "state": {
            "_model_module": "@jupyter-widgets/controls",
            "_model_module_version": "1.5.0",
            "_model_name": "DescriptionStyleModel",
            "_view_count": null,
            "_view_module": "@jupyter-widgets/base",
            "_view_module_version": "1.2.0",
            "_view_name": "StyleView",
            "description_width": ""
          }
        },
        "fa64c90a37964db1956e3ad9558ae90d": {
          "model_module": "@jupyter-widgets/base",
          "model_name": "LayoutModel",
          "model_module_version": "1.2.0",
          "state": {
            "_model_module": "@jupyter-widgets/base",
            "_model_module_version": "1.2.0",
            "_model_name": "LayoutModel",
            "_view_count": null,
            "_view_module": "@jupyter-widgets/base",
            "_view_module_version": "1.2.0",
            "_view_name": "LayoutView",
            "align_content": null,
            "align_items": null,
            "align_self": null,
            "border": null,
            "bottom": null,
            "display": null,
            "flex": null,
            "flex_flow": null,
            "grid_area": null,
            "grid_auto_columns": null,
            "grid_auto_flow": null,
            "grid_auto_rows": null,
            "grid_column": null,
            "grid_gap": null,
            "grid_row": null,
            "grid_template_areas": null,
            "grid_template_columns": null,
            "grid_template_rows": null,
            "height": null,
            "justify_content": null,
            "justify_items": null,
            "left": null,
            "margin": null,
            "max_height": null,
            "max_width": null,
            "min_height": null,
            "min_width": null,
            "object_fit": null,
            "object_position": null,
            "order": null,
            "overflow": null,
            "overflow_x": null,
            "overflow_y": null,
            "padding": null,
            "right": null,
            "top": null,
            "visibility": null,
            "width": null
          }
        },
        "ed2b0cef7ae743f889941b0167444a59": {
          "model_module": "@jupyter-widgets/controls",
          "model_name": "ProgressStyleModel",
          "model_module_version": "1.5.0",
          "state": {
            "_model_module": "@jupyter-widgets/controls",
            "_model_module_version": "1.5.0",
            "_model_name": "ProgressStyleModel",
            "_view_count": null,
            "_view_module": "@jupyter-widgets/base",
            "_view_module_version": "1.2.0",
            "_view_name": "StyleView",
            "bar_color": null,
            "description_width": ""
          }
        },
        "a419fd66506f4d3d971b6314e31a862d": {
          "model_module": "@jupyter-widgets/base",
          "model_name": "LayoutModel",
          "model_module_version": "1.2.0",
          "state": {
            "_model_module": "@jupyter-widgets/base",
            "_model_module_version": "1.2.0",
            "_model_name": "LayoutModel",
            "_view_count": null,
            "_view_module": "@jupyter-widgets/base",
            "_view_module_version": "1.2.0",
            "_view_name": "LayoutView",
            "align_content": null,
            "align_items": null,
            "align_self": null,
            "border": null,
            "bottom": null,
            "display": null,
            "flex": null,
            "flex_flow": null,
            "grid_area": null,
            "grid_auto_columns": null,
            "grid_auto_flow": null,
            "grid_auto_rows": null,
            "grid_column": null,
            "grid_gap": null,
            "grid_row": null,
            "grid_template_areas": null,
            "grid_template_columns": null,
            "grid_template_rows": null,
            "height": null,
            "justify_content": null,
            "justify_items": null,
            "left": null,
            "margin": null,
            "max_height": null,
            "max_width": null,
            "min_height": null,
            "min_width": null,
            "object_fit": null,
            "object_position": null,
            "order": null,
            "overflow": null,
            "overflow_x": null,
            "overflow_y": null,
            "padding": null,
            "right": null,
            "top": null,
            "visibility": null,
            "width": null
          }
        },
        "3bc9bd8897124bf0bde4c067f5a7d713": {
          "model_module": "@jupyter-widgets/controls",
          "model_name": "DescriptionStyleModel",
          "model_module_version": "1.5.0",
          "state": {
            "_model_module": "@jupyter-widgets/controls",
            "_model_module_version": "1.5.0",
            "_model_name": "DescriptionStyleModel",
            "_view_count": null,
            "_view_module": "@jupyter-widgets/base",
            "_view_module_version": "1.2.0",
            "_view_name": "StyleView",
            "description_width": ""
          }
        },
        "eb78eba160884836bebfa96116f7f96d": {
          "model_module": "@jupyter-widgets/controls",
          "model_name": "HBoxModel",
          "model_module_version": "1.5.0",
          "state": {
            "_dom_classes": [],
            "_model_module": "@jupyter-widgets/controls",
            "_model_module_version": "1.5.0",
            "_model_name": "HBoxModel",
            "_view_count": null,
            "_view_module": "@jupyter-widgets/controls",
            "_view_module_version": "1.5.0",
            "_view_name": "HBoxView",
            "box_style": "",
            "children": [
              "IPY_MODEL_cf32b884a7944810956eab0f522d59b2",
              "IPY_MODEL_45401471e5d1417881816be9c4242698",
              "IPY_MODEL_a656a2b979ef417586d5cc4ac9269b44"
            ],
            "layout": "IPY_MODEL_11c19a4ae8f34c42abb0a62cd0401fad"
          }
        },
        "cf32b884a7944810956eab0f522d59b2": {
          "model_module": "@jupyter-widgets/controls",
          "model_name": "HTMLModel",
          "model_module_version": "1.5.0",
          "state": {
            "_dom_classes": [],
            "_model_module": "@jupyter-widgets/controls",
            "_model_module_version": "1.5.0",
            "_model_name": "HTMLModel",
            "_view_count": null,
            "_view_module": "@jupyter-widgets/controls",
            "_view_module_version": "1.5.0",
            "_view_name": "HTMLView",
            "description": "",
            "description_tooltip": null,
            "layout": "IPY_MODEL_d21212300f9548d3a902cb51959ff2f8",
            "placeholder": "​",
            "style": "IPY_MODEL_8406aa49682f41a3bb20b40b20eba1e3",
            "value": "Downloading https://huggingface.co/stanfordnlp/stanza-grc/resolve/v1.5.0/models/tokenize/proiel.pt: 100%"
          }
        },
        "45401471e5d1417881816be9c4242698": {
          "model_module": "@jupyter-widgets/controls",
          "model_name": "FloatProgressModel",
          "model_module_version": "1.5.0",
          "state": {
            "_dom_classes": [],
            "_model_module": "@jupyter-widgets/controls",
            "_model_module_version": "1.5.0",
            "_model_name": "FloatProgressModel",
            "_view_count": null,
            "_view_module": "@jupyter-widgets/controls",
            "_view_module_version": "1.5.0",
            "_view_name": "ProgressView",
            "bar_style": "success",
            "description": "",
            "description_tooltip": null,
            "layout": "IPY_MODEL_5b42b8cd3d4c49e88afba9737a0848cd",
            "max": 641780,
            "min": 0,
            "orientation": "horizontal",
            "style": "IPY_MODEL_450977e5535f4d25ae677fe59124de93",
            "value": 641780
          }
        },
        "a656a2b979ef417586d5cc4ac9269b44": {
          "model_module": "@jupyter-widgets/controls",
          "model_name": "HTMLModel",
          "model_module_version": "1.5.0",
          "state": {
            "_dom_classes": [],
            "_model_module": "@jupyter-widgets/controls",
            "_model_module_version": "1.5.0",
            "_model_name": "HTMLModel",
            "_view_count": null,
            "_view_module": "@jupyter-widgets/controls",
            "_view_module_version": "1.5.0",
            "_view_name": "HTMLView",
            "description": "",
            "description_tooltip": null,
            "layout": "IPY_MODEL_eea5b5932f1d4957af823f5fbf1d0dd2",
            "placeholder": "​",
            "style": "IPY_MODEL_17034907d8aa43658e08658af882a85f",
            "value": " 642k/642k [00:00&lt;00:00, 2.62MB/s]"
          }
        },
        "11c19a4ae8f34c42abb0a62cd0401fad": {
          "model_module": "@jupyter-widgets/base",
          "model_name": "LayoutModel",
          "model_module_version": "1.2.0",
          "state": {
            "_model_module": "@jupyter-widgets/base",
            "_model_module_version": "1.2.0",
            "_model_name": "LayoutModel",
            "_view_count": null,
            "_view_module": "@jupyter-widgets/base",
            "_view_module_version": "1.2.0",
            "_view_name": "LayoutView",
            "align_content": null,
            "align_items": null,
            "align_self": null,
            "border": null,
            "bottom": null,
            "display": null,
            "flex": null,
            "flex_flow": null,
            "grid_area": null,
            "grid_auto_columns": null,
            "grid_auto_flow": null,
            "grid_auto_rows": null,
            "grid_column": null,
            "grid_gap": null,
            "grid_row": null,
            "grid_template_areas": null,
            "grid_template_columns": null,
            "grid_template_rows": null,
            "height": null,
            "justify_content": null,
            "justify_items": null,
            "left": null,
            "margin": null,
            "max_height": null,
            "max_width": null,
            "min_height": null,
            "min_width": null,
            "object_fit": null,
            "object_position": null,
            "order": null,
            "overflow": null,
            "overflow_x": null,
            "overflow_y": null,
            "padding": null,
            "right": null,
            "top": null,
            "visibility": null,
            "width": null
          }
        },
        "d21212300f9548d3a902cb51959ff2f8": {
          "model_module": "@jupyter-widgets/base",
          "model_name": "LayoutModel",
          "model_module_version": "1.2.0",
          "state": {
            "_model_module": "@jupyter-widgets/base",
            "_model_module_version": "1.2.0",
            "_model_name": "LayoutModel",
            "_view_count": null,
            "_view_module": "@jupyter-widgets/base",
            "_view_module_version": "1.2.0",
            "_view_name": "LayoutView",
            "align_content": null,
            "align_items": null,
            "align_self": null,
            "border": null,
            "bottom": null,
            "display": null,
            "flex": null,
            "flex_flow": null,
            "grid_area": null,
            "grid_auto_columns": null,
            "grid_auto_flow": null,
            "grid_auto_rows": null,
            "grid_column": null,
            "grid_gap": null,
            "grid_row": null,
            "grid_template_areas": null,
            "grid_template_columns": null,
            "grid_template_rows": null,
            "height": null,
            "justify_content": null,
            "justify_items": null,
            "left": null,
            "margin": null,
            "max_height": null,
            "max_width": null,
            "min_height": null,
            "min_width": null,
            "object_fit": null,
            "object_position": null,
            "order": null,
            "overflow": null,
            "overflow_x": null,
            "overflow_y": null,
            "padding": null,
            "right": null,
            "top": null,
            "visibility": null,
            "width": null
          }
        },
        "8406aa49682f41a3bb20b40b20eba1e3": {
          "model_module": "@jupyter-widgets/controls",
          "model_name": "DescriptionStyleModel",
          "model_module_version": "1.5.0",
          "state": {
            "_model_module": "@jupyter-widgets/controls",
            "_model_module_version": "1.5.0",
            "_model_name": "DescriptionStyleModel",
            "_view_count": null,
            "_view_module": "@jupyter-widgets/base",
            "_view_module_version": "1.2.0",
            "_view_name": "StyleView",
            "description_width": ""
          }
        },
        "5b42b8cd3d4c49e88afba9737a0848cd": {
          "model_module": "@jupyter-widgets/base",
          "model_name": "LayoutModel",
          "model_module_version": "1.2.0",
          "state": {
            "_model_module": "@jupyter-widgets/base",
            "_model_module_version": "1.2.0",
            "_model_name": "LayoutModel",
            "_view_count": null,
            "_view_module": "@jupyter-widgets/base",
            "_view_module_version": "1.2.0",
            "_view_name": "LayoutView",
            "align_content": null,
            "align_items": null,
            "align_self": null,
            "border": null,
            "bottom": null,
            "display": null,
            "flex": null,
            "flex_flow": null,
            "grid_area": null,
            "grid_auto_columns": null,
            "grid_auto_flow": null,
            "grid_auto_rows": null,
            "grid_column": null,
            "grid_gap": null,
            "grid_row": null,
            "grid_template_areas": null,
            "grid_template_columns": null,
            "grid_template_rows": null,
            "height": null,
            "justify_content": null,
            "justify_items": null,
            "left": null,
            "margin": null,
            "max_height": null,
            "max_width": null,
            "min_height": null,
            "min_width": null,
            "object_fit": null,
            "object_position": null,
            "order": null,
            "overflow": null,
            "overflow_x": null,
            "overflow_y": null,
            "padding": null,
            "right": null,
            "top": null,
            "visibility": null,
            "width": null
          }
        },
        "450977e5535f4d25ae677fe59124de93": {
          "model_module": "@jupyter-widgets/controls",
          "model_name": "ProgressStyleModel",
          "model_module_version": "1.5.0",
          "state": {
            "_model_module": "@jupyter-widgets/controls",
            "_model_module_version": "1.5.0",
            "_model_name": "ProgressStyleModel",
            "_view_count": null,
            "_view_module": "@jupyter-widgets/base",
            "_view_module_version": "1.2.0",
            "_view_name": "StyleView",
            "bar_color": null,
            "description_width": ""
          }
        },
        "eea5b5932f1d4957af823f5fbf1d0dd2": {
          "model_module": "@jupyter-widgets/base",
          "model_name": "LayoutModel",
          "model_module_version": "1.2.0",
          "state": {
            "_model_module": "@jupyter-widgets/base",
            "_model_module_version": "1.2.0",
            "_model_name": "LayoutModel",
            "_view_count": null,
            "_view_module": "@jupyter-widgets/base",
            "_view_module_version": "1.2.0",
            "_view_name": "LayoutView",
            "align_content": null,
            "align_items": null,
            "align_self": null,
            "border": null,
            "bottom": null,
            "display": null,
            "flex": null,
            "flex_flow": null,
            "grid_area": null,
            "grid_auto_columns": null,
            "grid_auto_flow": null,
            "grid_auto_rows": null,
            "grid_column": null,
            "grid_gap": null,
            "grid_row": null,
            "grid_template_areas": null,
            "grid_template_columns": null,
            "grid_template_rows": null,
            "height": null,
            "justify_content": null,
            "justify_items": null,
            "left": null,
            "margin": null,
            "max_height": null,
            "max_width": null,
            "min_height": null,
            "min_width": null,
            "object_fit": null,
            "object_position": null,
            "order": null,
            "overflow": null,
            "overflow_x": null,
            "overflow_y": null,
            "padding": null,
            "right": null,
            "top": null,
            "visibility": null,
            "width": null
          }
        },
        "17034907d8aa43658e08658af882a85f": {
          "model_module": "@jupyter-widgets/controls",
          "model_name": "DescriptionStyleModel",
          "model_module_version": "1.5.0",
          "state": {
            "_model_module": "@jupyter-widgets/controls",
            "_model_module_version": "1.5.0",
            "_model_name": "DescriptionStyleModel",
            "_view_count": null,
            "_view_module": "@jupyter-widgets/base",
            "_view_module_version": "1.2.0",
            "_view_name": "StyleView",
            "description_width": ""
          }
        }
      }
    }
  },
  "nbformat": 4,
  "nbformat_minor": 0
}