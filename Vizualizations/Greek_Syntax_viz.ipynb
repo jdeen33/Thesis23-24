{
  "nbformat": 4,
  "nbformat_minor": 0,
  "metadata": {
    "colab": {
      "provenance": []
    },
    "kernelspec": {
      "name": "python3",
      "display_name": "Python 3"
    },
    "language_info": {
      "name": "python"
    }
  },
  "cells": [
    {
      "cell_type": "code",
      "execution_count": null,
      "metadata": {
        "id": "61OKxg787t0S"
      },
      "outputs": [],
      "source": [
        "import pandas as pd\n",
        "import numpy as np\n",
        "import plotly.express as px\n"
      ]
    },
    {
      "cell_type": "code",
      "source": [
        "def load_file(x):\n",
        "  text= pd.read_csv(x)\n",
        "  return text"
      ],
      "metadata": {
        "id": "GBHWQnyoD7rO"
      },
      "execution_count": null,
      "outputs": []
    },
    {
      "cell_type": "code",
      "source": [
        "#creating a dataframe of the features value_counts series returned\n",
        "#by pandas\n",
        "def getfeat_countsdf(DF):\n",
        "  featscounts= pd.DataFrame(DF['feats'].value_counts())\n",
        "  return featscounts\n"
      ],
      "metadata": {
        "id": "4mf0h8YdrWOx"
      },
      "execution_count": null,
      "outputs": []
    },
    {
      "cell_type": "code",
      "source": [
        "#in order for this to work you need to have\n",
        "#your columns labeled as\n",
        "# feats (the column containing the features)\n",
        "#and 'count' (column conatining counts)\n",
        "def get_featurelist(DF):\n",
        "  DF1= DF.dropna()\n",
        "  DF1['feats']= DF1['feats'].apply(lambda x: x.split(\"|\"))\n",
        "  featureslist= DF1.feats.tolist()\n",
        "  return featureslist  #returns a list of lists\n"
      ],
      "metadata": {
        "id": "qbGwQ4FaEhcG"
      },
      "execution_count": null,
      "outputs": []
    },
    {
      "cell_type": "code",
      "source": [
        "#flattens our list of lists\n",
        "#into one level\n",
        "def flattenList(llist):\n",
        "  individualfeats=  [item for sublist in llist for item in sublist]\n",
        "  return individualfeats\n"
      ],
      "metadata": {
        "id": "OXGZiwg9CbMc"
      },
      "execution_count": null,
      "outputs": []
    },
    {
      "cell_type": "code",
      "source": [
        "#now that we have split up features\n",
        "#We can count them individually\n",
        "#just makes it easier to break up visually\n",
        "#also they are almost always encoded togther by stanza\n",
        "#so thought it would be good to split\n",
        "def feats_dict(blist):\n",
        "  feats_dict= {}\n",
        "  feats_dict['Voice']= [item for item in blist if 'Voice'in item]\n",
        "  feats_dict['Tense']= [item for item in blist if 'Tense'in item]\n",
        "  feats_dict['Verbform']= [item for item in blist if 'VerbForm'in item]\n",
        "  feats_dict['Case']= [item for item in blist if 'Case'in item]\n",
        "  feats_dict['Number']= [item for item in blist if 'Number'in item]\n",
        "  feats_dict['Degree']= [item for item in blist if 'Degree'in item]\n",
        "  feats_dict['Gender']= [item for item in blist if 'Gender'in item]\n",
        "  feats_dict['PronType']= [item for item in blist if 'PronType'in item]\n",
        "  feats_dict['Reflex']= [item for item in blist if 'Reflex'in item]\n",
        "  feats_dict['Person']= [item for item in blist if 'Person'in item]\n",
        "  feats_dict['Mood']= [item for item in blist if 'Mood'in item]\n",
        "  feats_dict['Aspect']= [item for item in blist if 'Aspect'in item]\n",
        "  return feats_dict\n"
      ],
      "metadata": {
        "id": "5Jq8GyA7FuGH"
      },
      "execution_count": null,
      "outputs": []
    },
    {
      "cell_type": "code",
      "source": [
        "#making a dataframe of our split up features\n",
        "#wih their individual counts\n",
        "def makefeats_df(dict_):\n",
        "  featdf= pd.DataFrame.from_dict(dict_,orient='index')\n",
        "  return(featdf.T)\n"
      ],
      "metadata": {
        "id": "9QEhgR4VKFjg"
      },
      "execution_count": null,
      "outputs": []
    },
    {
      "cell_type": "code",
      "source": [
        "##renaming columns for our indicvidual features dataframes\n",
        "##once the columns are consistent throughout\n",
        "##each frame we can concatenate them into one\n",
        "##big dataframe\n",
        "voicedf= pd.DataFrame(featuresdf['Voice'].value_counts().reset_index().rename(columns={\"index\": \"Feature\", \"Voice\": \"Count\"}))\n",
        "tensedf= pd.DataFrame(featuresdf['Tense'].value_counts().reset_index().rename(columns={\"index\": \"Feature\", \"Tense\": \"Count\"}))\n",
        "verbformdf=pd.DataFrame(featuresdf['Verbform'].value_counts().reset_index().rename(columns={\"index\": \"Feature\", \"Verbform\": \"Count\"}))\n",
        "casedf= pd.DataFrame(featuresdf['Case'].value_counts().reset_index().rename(columns={\"index\": \"Feature\", \"Case\": \"Count\"}))\n",
        "numberdf= pd.DataFrame(featuresdf['Number'].value_counts().reset_index().rename(columns={\"index\": \"Feature\", \"Number\": \"Count\"}))\n",
        "degree= pd.DataFrame(featuresdf['Degree'].value_counts().reset_index().rename(columns={\"index\": \"Feature\", \"Degree\": \"Count\"}))\n",
        "genderdf= pd.DataFrame(featuresdf['Gender'].value_counts().reset_index().rename(columns={\"index\": \"Feature\", \"Gender\": \"Count\"}))\n",
        "prontypedf= pd.DataFrame(featuresdf['PronType'].value_counts().reset_index().rename(columns={\"index\": \"Feature\", \"PronType\": \"Count\"}))\n",
        "reflexdf= pd.DataFrame(featuresdf['Reflex'].value_counts().reset_index().rename(columns={\"index\": \"Feature\", \"Reflex\": \"Count\"}))\n",
        "persondf= pd.DataFrame(featuresdf['Person'].value_counts().reset_index().rename(columns={\"index\": \"Feature\", \"Person\": \"Count\"}))\n",
        "aspectdf= pd.DataFrame(featuresdf['Aspect'].value_counts().reset_index().rename(columns={\"index\": \"Feature\", \"Aspect\": \"Count\"}))\n",
        "mooddf= pd.DataFrame(featuresdf['Mood'].value_counts().reset_index().rename(columns={\"index\": \"Feature\", \"Mood\": \"Count\"}))"
      ],
      "metadata": {
        "id": "Aa18TL3ypwaS"
      },
      "execution_count": null,
      "outputs": []
    },
    {
      "cell_type": "code",
      "source": [
        "#making our DataFrame\n",
        "allfcounts = pd.concat([voicedf,tensedf,verbformdf,casedf,numberdf,degree,genderdf,prontypedf,reflexdf,mooddf,aspectdf],axis=0)\n",
        "allfcounts"
      ],
      "metadata": {
        "id": "kmIZ_CRhxQaX"
      },
      "execution_count": null,
      "outputs": []
    },
    {
      "cell_type": "code",
      "source": [
        "##adding normalized percent to each\n",
        "##of the morphological features\n",
        "allfcounts['normalized_percent']= allfcounts['Count']/allfcounts['Count'].sum()"
      ],
      "metadata": {
        "id": "K4Zl37A02Yiu"
      },
      "execution_count": null,
      "outputs": []
    },
    {
      "cell_type": "code",
      "source": [
        "##saving reformatted DF to my google drive\n",
        "allfcounts.to_csv('/content/drive/MyDrive/Thesis2023/Viz_Graphics/SunburstCharts/tlg0018.tlg003.featviz.csv')"
      ],
      "metadata": {
        "id": "UH4V0D4M3JTd"
      },
      "execution_count": null,
      "outputs": []
    },
    {
      "cell_type": "code",
      "source": [
        "##creating a sunburst chart with our results\n",
        "import plotly.express as px\n",
        "import numpy as np\n",
        "fig = px.sunburst(allfcounts, path=['Feature','Count'], values='Count',\n",
        " color_discrete_sequence=px.colors.qualitative.Antique_r)\n",
        "fig.update_layout(autosize=False, width=1000, height=1000,margin = dict(t=25, l=25, r=25, b=25))\n",
        "fig.update_traces(insidetextorientation='radial')\n",
        "fig.update_layout(uniformtext_minsize=16, uniformtext_mode='hide')\n",
        "fig.show()\n",
        "\n"
      ],
      "metadata": {
        "id": "iQ4nuDR1dnCn"
      },
      "execution_count": null,
      "outputs": []
    }
  ]
}